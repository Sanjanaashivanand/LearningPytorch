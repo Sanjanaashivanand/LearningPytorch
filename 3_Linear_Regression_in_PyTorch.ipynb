{
  "nbformat": 4,
  "nbformat_minor": 0,
  "metadata": {
    "colab": {
      "provenance": [],
      "authorship_tag": "ABX9TyMp2e/MqkPlEkYyIK2M+x5N",
      "include_colab_link": true
    },
    "kernelspec": {
      "name": "python3",
      "display_name": "Python 3"
    },
    "language_info": {
      "name": "python"
    }
  },
  "cells": [
    {
      "cell_type": "markdown",
      "metadata": {
        "id": "view-in-github",
        "colab_type": "text"
      },
      "source": [
        "<a href=\"https://colab.research.google.com/github/Sanjanaashivanand/LearningPytorch/blob/main/3_Linear_Regression_in_PyTorch.ipynb\" target=\"_parent\"><img src=\"https://colab.research.google.com/assets/colab-badge.svg\" alt=\"Open In Colab\"/></a>"
      ]
    },
    {
      "cell_type": "code",
      "execution_count": 1,
      "metadata": {
        "id": "UmBORDgQ8gru"
      },
      "outputs": [],
      "source": [
        "import torch\n",
        "from torch import nn\n",
        "import matplotlib.pyplot as plt"
      ]
    },
    {
      "cell_type": "code",
      "source": [
        "weight = 0.7\n",
        "bias = 0.3\n",
        "\n",
        "#Create the data\n",
        "start = 0\n",
        "end = 1\n",
        "step = 0.02\n",
        "X = torch.arange(start, end, step).unsqueeze(dim=1)\n",
        "y = weight * X + bias"
      ],
      "metadata": {
        "id": "yhC07E3c9aqM"
      },
      "execution_count": 2,
      "outputs": []
    },
    {
      "cell_type": "markdown",
      "source": [
        "#Estimate weight and bias, assume we are just given X and y"
      ],
      "metadata": {
        "id": "picbztyl-_Pw"
      }
    },
    {
      "cell_type": "code",
      "source": [
        "X[:10], y[:10]"
      ],
      "metadata": {
        "colab": {
          "base_uri": "https://localhost:8080/"
        },
        "id": "RFQZlDB79kUl",
        "outputId": "12ce736c-8d64-4fa8-80f4-70c51a8425fe"
      },
      "execution_count": 3,
      "outputs": [
        {
          "output_type": "execute_result",
          "data": {
            "text/plain": [
              "(tensor([[0.0000],\n",
              "         [0.0200],\n",
              "         [0.0400],\n",
              "         [0.0600],\n",
              "         [0.0800],\n",
              "         [0.1000],\n",
              "         [0.1200],\n",
              "         [0.1400],\n",
              "         [0.1600],\n",
              "         [0.1800]]),\n",
              " tensor([[0.3000],\n",
              "         [0.3140],\n",
              "         [0.3280],\n",
              "         [0.3420],\n",
              "         [0.3560],\n",
              "         [0.3700],\n",
              "         [0.3840],\n",
              "         [0.3980],\n",
              "         [0.4120],\n",
              "         [0.4260]]))"
            ]
          },
          "metadata": {},
          "execution_count": 3
        }
      ]
    },
    {
      "cell_type": "code",
      "source": [
        "#Splitting the data\n",
        "X_train, y_train = X[:int(0.8 * len(X))], y[:int(0.8 * len(X))]\n",
        "X_test, y_test = X[int(0.8 * len(X)):], y[int(0.8 * len(X)):]"
      ],
      "metadata": {
        "id": "f4OO5--A-_1P"
      },
      "execution_count": 4,
      "outputs": []
    },
    {
      "cell_type": "code",
      "source": [
        "def plot_predictions(train_data=X_train,\n",
        "                     train_labels=y_train,\n",
        "                     test_data=X_test,\n",
        "                     test_labels=y_test,\n",
        "                     predictions=None):\n",
        "  plt.figure(figsize=(10,7))\n",
        "\n",
        "  plt.scatter(train_data, train_labels, c=\"b\", s=4, label=\"Training Data\")\n",
        "\n",
        "  plt.scatter(test_data, test_labels, c=\"g\", s=4, label=\"Testing Data\")\n",
        "\n",
        "  if predictions is not None:\n",
        "    plt.scatter(test_data, predictions, c=\"r\", s=4, label=\"Predictions\")\n",
        "\n",
        "  plt.legend(prop={\"size\":14})"
      ],
      "metadata": {
        "id": "A1XasD5uAK21"
      },
      "execution_count": 5,
      "outputs": []
    },
    {
      "cell_type": "code",
      "source": [
        "plot_predictions()"
      ],
      "metadata": {
        "colab": {
          "base_uri": "https://localhost:8080/",
          "height": 564
        },
        "id": "q5QgLGbQAP28",
        "outputId": "e2d1d065-f936-4887-b207-c8a64b2adf30"
      },
      "execution_count": 6,
      "outputs": [
        {
          "output_type": "display_data",
          "data": {
            "text/plain": [
              "<Figure size 1000x700 with 1 Axes>"
            ],
            "image/png": "[encoded data removed]"
          },
          "metadata": {}
        }
      ]
    },
    {
      "cell_type": "code",
      "source": [
        "#Linear regression model\n",
        "\n",
        "#torch.nn conatins all the building blocks of neural networks\n",
        "#nn.Paremeters -> what our model should learn\n",
        "#torch.nn.Module -> The base class, i.e subclasses that we can override\n",
        "\n",
        "class LinearRegressionModel(nn.Module):\n",
        "    def __init__(self):\n",
        "        super(LinearRegressionModel, self).__init__()\n",
        "        self.weights = nn.Parameter(torch.randn(1, requires_grad=True, dtype=torch.float))\n",
        "        self.bias = nn.Parameter(torch.randn(1, requires_grad=True, dtype=torch.float))\n",
        "\n",
        "    def forward(self, x: torch.Tensor) -> torch.Tensor:\n",
        "        return self.weights * x + self.bias\n"
      ],
      "metadata": {
        "id": "6uWI5sd4Bwal"
      },
      "execution_count": 7,
      "outputs": []
    },
    {
      "cell_type": "code",
      "source": [
        "#Check the model\n",
        "torch.manual_seed(42)\n",
        "model0 = LinearRegressionModel()\n",
        "\n",
        "list(model0.parameters()), model0.state_dict()"
      ],
      "metadata": {
        "colab": {
          "base_uri": "https://localhost:8080/"
        },
        "id": "dxeSyLPlEVNC",
        "outputId": "66fd8e62-3d75-48fb-bdf0-e9b6a15f55f3"
      },
      "execution_count": 8,
      "outputs": [
        {
          "output_type": "execute_result",
          "data": {
            "text/plain": [
              "([Parameter containing:\n",
              "  tensor([0.3367], requires_grad=True),\n",
              "  Parameter containing:\n",
              "  tensor([0.1288], requires_grad=True)],\n",
              " OrderedDict([('weights', tensor([0.3367])), ('bias', tensor([0.1288]))]))"
            ]
          },
          "metadata": {},
          "execution_count": 8
        }
      ]
    },
    {
      "cell_type": "code",
      "source": [
        "#Disables the gradient -> read more, torch.no\n",
        "with torch.inference_mode():\n",
        "  y_pred = model0(X_test)\n",
        "\n",
        "y_pred"
      ],
      "metadata": {
        "colab": {
          "base_uri": "https://localhost:8080/"
        },
        "id": "OcKAWOhZFxO-",
        "outputId": "e9d05d8d-2132-4625-8e31-1dd973ceb35e"
      },
      "execution_count": 9,
      "outputs": [
        {
          "output_type": "execute_result",
          "data": {
            "text/plain": [
              "tensor([[0.3982],\n",
              "        [0.4049],\n",
              "        [0.4116],\n",
              "        [0.4184],\n",
              "        [0.4251],\n",
              "        [0.4318],\n",
              "        [0.4386],\n",
              "        [0.4453],\n",
              "        [0.4520],\n",
              "        [0.4588]])"
            ]
          },
          "metadata": {},
          "execution_count": 9
        }
      ]
    },
    {
      "cell_type": "code",
      "source": [
        "y_pred = model0(X_test)\n",
        "y_pred"
      ],
      "metadata": {
        "colab": {
          "base_uri": "https://localhost:8080/"
        },
        "id": "ZMVfWOkq31c-",
        "outputId": "6817fcf8-f666-4598-e2c4-0a0799e2475f"
      },
      "execution_count": 10,
      "outputs": [
        {
          "output_type": "execute_result",
          "data": {
            "text/plain": [
              "tensor([[0.3982],\n",
              "        [0.4049],\n",
              "        [0.4116],\n",
              "        [0.4184],\n",
              "        [0.4251],\n",
              "        [0.4318],\n",
              "        [0.4386],\n",
              "        [0.4453],\n",
              "        [0.4520],\n",
              "        [0.4588]], grad_fn=<AddBackward0>)"
            ]
          },
          "metadata": {},
          "execution_count": 10
        }
      ]
    },
    {
      "cell_type": "code",
      "source": [
        "#Loss function\n",
        "loss_fn = nn.L1Loss()\n",
        "\n",
        "#Optimizer\n",
        "optimizer = torch.optim.SGD(params= model0.parameters(),\n",
        "                            lr = 0.1)"
      ],
      "metadata": {
        "id": "0W903gKr4GPr"
      },
      "execution_count": 11,
      "outputs": []
    },
    {
      "cell_type": "markdown",
      "source": [
        "#Training\n",
        "0. Loop through data\n",
        "1. Forward pass\n",
        "2. Calculate the loss\n",
        "3. Gradient\n",
        "4. Loss Backwards\n",
        "5. Optimizer"
      ],
      "metadata": {
        "id": "CzBz57ti-Mm2"
      }
    },
    {
      "cell_type": "code",
      "source": [
        "#Training\n",
        "\n",
        "epochs = 100\n",
        "for epoch in range(epochs):\n",
        "  model0.train()\n",
        "  y_pred = model0(X_train)\n",
        "  loss = loss_fn(y_pred, y_train)\n",
        "  print(\"Loss\", loss)\n",
        "  optimizer.zero_grad()\n",
        "  loss.backward()\n",
        "  optimizer.step()\n",
        "\n",
        "  #Testing\n",
        "  model0.eval()\n",
        "\n",
        "  with torch.inference_mode():\n",
        "    test_pred = model0(X_test)\n",
        "    test_loss = loss_fn(test_pred, y_test)\n",
        "\n",
        "  if epoch%10==0:\n",
        "    print(f\"Epoch: {epoch} | Loss: {loss} | Test Loss: {test_loss}\")\n",
        "\n"
      ],
      "metadata": {
        "colab": {
          "base_uri": "https://localhost:8080/"
        },
        "id": "aBluZZjp9Snt",
        "outputId": "5a35b70f-3e66-48a2-c736-fa224d2ea280"
      },
      "execution_count": 12,
      "outputs": [
        {
          "output_type": "stream",
          "name": "stdout",
          "text": [
            "Loss tensor(0.3129, grad_fn=<MeanBackward0>)\n",
            "Epoch: 0 | Loss: 0.31288138031959534 | Test Loss: 0.35982614755630493\n",
            "Loss tensor(0.1977, grad_fn=<MeanBackward0>)\n",
            "Loss tensor(0.0868, grad_fn=<MeanBackward0>)\n",
            "Loss tensor(0.0496, grad_fn=<MeanBackward0>)\n",
            "Loss tensor(0.0461, grad_fn=<MeanBackward0>)\n",
            "Loss tensor(0.0426, grad_fn=<MeanBackward0>)\n",
            "Loss tensor(0.0392, grad_fn=<MeanBackward0>)\n",
            "Loss tensor(0.0357, grad_fn=<MeanBackward0>)\n",
            "Loss tensor(0.0323, grad_fn=<MeanBackward0>)\n",
            "Loss tensor(0.0289, grad_fn=<MeanBackward0>)\n",
            "Loss tensor(0.0254, grad_fn=<MeanBackward0>)\n",
            "Epoch: 10 | Loss: 0.025432366877794266 | Test Loss: 0.05427704378962517\n",
            "Loss tensor(0.0220, grad_fn=<MeanBackward0>)\n",
            "Loss tensor(0.0191, grad_fn=<MeanBackward0>)\n",
            "Loss tensor(0.0188, grad_fn=<MeanBackward0>)\n",
            "Loss tensor(0.0398, grad_fn=<MeanBackward0>)\n",
            "Loss tensor(0.0754, grad_fn=<MeanBackward0>)\n",
            "Loss tensor(0.0398, grad_fn=<MeanBackward0>)\n",
            "Loss tensor(0.0754, grad_fn=<MeanBackward0>)\n",
            "Loss tensor(0.0398, grad_fn=<MeanBackward0>)\n",
            "Loss tensor(0.0754, grad_fn=<MeanBackward0>)\n",
            "Loss tensor(0.0398, grad_fn=<MeanBackward0>)\n",
            "Epoch: 20 | Loss: 0.039773717522621155 | Test Loss: 0.11934101581573486\n",
            "Loss tensor(0.0754, grad_fn=<MeanBackward0>)\n",
            "Loss tensor(0.0398, grad_fn=<MeanBackward0>)\n",
            "Loss tensor(0.0754, grad_fn=<MeanBackward0>)\n",
            "Loss tensor(0.0398, grad_fn=<MeanBackward0>)\n",
            "Loss tensor(0.0754, grad_fn=<MeanBackward0>)\n",
            "Loss tensor(0.0398, grad_fn=<MeanBackward0>)\n",
            "Loss tensor(0.0754, grad_fn=<MeanBackward0>)\n",
            "Loss tensor(0.0398, grad_fn=<MeanBackward0>)\n",
            "Loss tensor(0.0754, grad_fn=<MeanBackward0>)\n",
            "Loss tensor(0.0398, grad_fn=<MeanBackward0>)\n",
            "Epoch: 30 | Loss: 0.039773717522621155 | Test Loss: 0.11934101581573486\n",
            "Loss tensor(0.0754, grad_fn=<MeanBackward0>)\n",
            "Loss tensor(0.0398, grad_fn=<MeanBackward0>)\n",
            "Loss tensor(0.0754, grad_fn=<MeanBackward0>)\n",
            "Loss tensor(0.0398, grad_fn=<MeanBackward0>)\n",
            "Loss tensor(0.0754, grad_fn=<MeanBackward0>)\n",
            "Loss tensor(0.0398, grad_fn=<MeanBackward0>)\n",
            "Loss tensor(0.0754, grad_fn=<MeanBackward0>)\n",
            "Loss tensor(0.0398, grad_fn=<MeanBackward0>)\n",
            "Loss tensor(0.0754, grad_fn=<MeanBackward0>)\n",
            "Loss tensor(0.0398, grad_fn=<MeanBackward0>)\n",
            "Epoch: 40 | Loss: 0.039773717522621155 | Test Loss: 0.11934101581573486\n",
            "Loss tensor(0.0754, grad_fn=<MeanBackward0>)\n",
            "Loss tensor(0.0398, grad_fn=<MeanBackward0>)\n",
            "Loss tensor(0.0754, grad_fn=<MeanBackward0>)\n",
            "Loss tensor(0.0398, grad_fn=<MeanBackward0>)\n",
            "Loss tensor(0.0754, grad_fn=<MeanBackward0>)\n",
            "Loss tensor(0.0398, grad_fn=<MeanBackward0>)\n",
            "Loss tensor(0.0754, grad_fn=<MeanBackward0>)\n",
            "Loss tensor(0.0398, grad_fn=<MeanBackward0>)\n",
            "Loss tensor(0.0754, grad_fn=<MeanBackward0>)\n",
            "Loss tensor(0.0398, grad_fn=<MeanBackward0>)\n",
            "Epoch: 50 | Loss: 0.039773717522621155 | Test Loss: 0.11934101581573486\n",
            "Loss tensor(0.0754, grad_fn=<MeanBackward0>)\n",
            "Loss tensor(0.0398, grad_fn=<MeanBackward0>)\n",
            "Loss tensor(0.0754, grad_fn=<MeanBackward0>)\n",
            "Loss tensor(0.0398, grad_fn=<MeanBackward0>)\n",
            "Loss tensor(0.0754, grad_fn=<MeanBackward0>)\n",
            "Loss tensor(0.0398, grad_fn=<MeanBackward0>)\n",
            "Loss tensor(0.0754, grad_fn=<MeanBackward0>)\n",
            "Loss tensor(0.0398, grad_fn=<MeanBackward0>)\n",
            "Loss tensor(0.0754, grad_fn=<MeanBackward0>)\n",
            "Loss tensor(0.0398, grad_fn=<MeanBackward0>)\n",
            "Epoch: 60 | Loss: 0.039773717522621155 | Test Loss: 0.11934101581573486\n",
            "Loss tensor(0.0754, grad_fn=<MeanBackward0>)\n",
            "Loss tensor(0.0398, grad_fn=<MeanBackward0>)\n",
            "Loss tensor(0.0754, grad_fn=<MeanBackward0>)\n",
            "Loss tensor(0.0398, grad_fn=<MeanBackward0>)\n",
            "Loss tensor(0.0754, grad_fn=<MeanBackward0>)\n",
            "Loss tensor(0.0398, grad_fn=<MeanBackward0>)\n",
            "Loss tensor(0.0754, grad_fn=<MeanBackward0>)\n",
            "Loss tensor(0.0398, grad_fn=<MeanBackward0>)\n",
            "Loss tensor(0.0754, grad_fn=<MeanBackward0>)\n",
            "Loss tensor(0.0398, grad_fn=<MeanBackward0>)\n",
            "Epoch: 70 | Loss: 0.039773717522621155 | Test Loss: 0.11934101581573486\n",
            "Loss tensor(0.0754, grad_fn=<MeanBackward0>)\n",
            "Loss tensor(0.0398, grad_fn=<MeanBackward0>)\n",
            "Loss tensor(0.0754, grad_fn=<MeanBackward0>)\n",
            "Loss tensor(0.0398, grad_fn=<MeanBackward0>)\n",
            "Loss tensor(0.0754, grad_fn=<MeanBackward0>)\n",
            "Loss tensor(0.0398, grad_fn=<MeanBackward0>)\n",
            "Loss tensor(0.0754, grad_fn=<MeanBackward0>)\n",
            "Loss tensor(0.0398, grad_fn=<MeanBackward0>)\n",
            "Loss tensor(0.0754, grad_fn=<MeanBackward0>)\n",
            "Loss tensor(0.0398, grad_fn=<MeanBackward0>)\n",
            "Epoch: 80 | Loss: 0.039773717522621155 | Test Loss: 0.11934101581573486\n",
            "Loss tensor(0.0754, grad_fn=<MeanBackward0>)\n",
            "Loss tensor(0.0398, grad_fn=<MeanBackward0>)\n",
            "Loss tensor(0.0754, grad_fn=<MeanBackward0>)\n",
            "Loss tensor(0.0398, grad_fn=<MeanBackward0>)\n",
            "Loss tensor(0.0754, grad_fn=<MeanBackward0>)\n",
            "Loss tensor(0.0398, grad_fn=<MeanBackward0>)\n",
            "Loss tensor(0.0754, grad_fn=<MeanBackward0>)\n",
            "Loss tensor(0.0398, grad_fn=<MeanBackward0>)\n",
            "Loss tensor(0.0754, grad_fn=<MeanBackward0>)\n",
            "Loss tensor(0.0398, grad_fn=<MeanBackward0>)\n",
            "Epoch: 90 | Loss: 0.039773717522621155 | Test Loss: 0.11934101581573486\n",
            "Loss tensor(0.0754, grad_fn=<MeanBackward0>)\n",
            "Loss tensor(0.0398, grad_fn=<MeanBackward0>)\n",
            "Loss tensor(0.0754, grad_fn=<MeanBackward0>)\n",
            "Loss tensor(0.0398, grad_fn=<MeanBackward0>)\n",
            "Loss tensor(0.0754, grad_fn=<MeanBackward0>)\n",
            "Loss tensor(0.0398, grad_fn=<MeanBackward0>)\n",
            "Loss tensor(0.0754, grad_fn=<MeanBackward0>)\n",
            "Loss tensor(0.0398, grad_fn=<MeanBackward0>)\n",
            "Loss tensor(0.0754, grad_fn=<MeanBackward0>)\n"
          ]
        }
      ]
    },
    {
      "cell_type": "code",
      "source": [
        "with torch.inference_mode():\n",
        "  y_preds_new = model0(X_test)"
      ],
      "metadata": {
        "id": "VOStPZTV-OsT"
      },
      "execution_count": 13,
      "outputs": []
    },
    {
      "cell_type": "code",
      "source": [
        "plot_predictions(predictions=y_preds_new)"
      ],
      "metadata": {
        "colab": {
          "base_uri": "https://localhost:8080/",
          "height": 564
        },
        "id": "_Ma820YcBaK6",
        "outputId": "c50ab536-ef73-460c-c250-45717e2e3fee"
      },
      "execution_count": 14,
      "outputs": [
        {
          "output_type": "display_data",
          "data": {
            "text/plain": [
              "<Figure size 1000x700 with 1 Axes>"
            ],
            "image/png": "[encoded data removed]"
          },
          "metadata": {}
        }
      ]
    },
    {
      "cell_type": "code",
      "source": [
        "model0.state_dict()"
      ],
      "metadata": {
        "colab": {
          "base_uri": "https://localhost:8080/"
        },
        "id": "a0w1Npw3G81O",
        "outputId": "2b8f777d-222c-45f2-d44e-c6fa6ce86ccc"
      },
      "execution_count": 15,
      "outputs": [
        {
          "output_type": "execute_result",
          "data": {
            "text/plain": [
              "OrderedDict([('weights', tensor([0.6512])), ('bias', tensor([0.3588]))])"
            ]
          },
          "metadata": {},
          "execution_count": 15
        }
      ]
    },
    {
      "cell_type": "code",
      "source": [],
      "metadata": {
        "id": "nk6jrhLxRp95"
      },
      "execution_count": null,
      "outputs": []
    }
  ]
}