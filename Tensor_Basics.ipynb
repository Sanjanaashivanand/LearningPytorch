{
  "nbformat": 4,
  "nbformat_minor": 0,
  "metadata": {
    "colab": {
      "provenance": [],
      "gpuType": "T4",
      "authorship_tag": "ABX9TyPnbzn6O6+Uu7Eoz3pmGxeL",
      "include_colab_link": true
    },
    "kernelspec": {
      "name": "python3",
      "display_name": "Python 3"
    },
    "language_info": {
      "name": "python"
    }
  },
  "cells": [
    {
      "cell_type": "markdown",
      "metadata": {
        "id": "view-in-github",
        "colab_type": "text"
      },
      "source": [
        "<a href=\"https://colab.research.google.com/github/Sanjanaashivanand/LearningPytorch/blob/main/Tensor_Basics.ipynb\" target=\"_parent\"><img src=\"https://colab.research.google.com/assets/colab-badge.svg\" alt=\"Open In Colab\"/></a>"
      ]
    },
    {
      "cell_type": "code",
      "execution_count": 1,
      "metadata": {
        "colab": {
          "base_uri": "https://localhost:8080/"
        },
        "id": "prhUYv0RjHEu",
        "outputId": "286686c4-48a5-463b-91b5-5ac897a4e953"
      },
      "outputs": [
        {
          "output_type": "stream",
          "name": "stdout",
          "text": [
            "/bin/bash: line 1: nvidia-smi: command not found\n"
          ]
        }
      ],
      "source": [
        "!nvidia-smi"
      ]
    },
    {
      "cell_type": "code",
      "source": [
        "import torch\n",
        "import pandas as pd\n",
        "import numpy as np\n",
        "import matplotlib.pyplot as plt\n",
        "print(torch.__version__)"
      ],
      "metadata": {
        "colab": {
          "base_uri": "https://localhost:8080/"
        },
        "id": "NBeyii32oHec",
        "outputId": "d3f27311-f4dc-4df6-822a-6ad17019ef35"
      },
      "execution_count": 2,
      "outputs": [
        {
          "output_type": "stream",
          "name": "stdout",
          "text": [
            "2.1.0+cu121\n"
          ]
        }
      ]
    },
    {
      "cell_type": "markdown",
      "source": [
        "# Intoduction to Tensors"
      ],
      "metadata": {
        "id": "c9R6aAyRo29_"
      }
    },
    {
      "cell_type": "markdown",
      "source": [
        "Creating Tensors"
      ],
      "metadata": {
        "id": "VB16cAchpDtN"
      }
    },
    {
      "cell_type": "code",
      "source": [
        "#Different types of tensor\n",
        "\n",
        "#1. Scalar Tensor\n",
        "scalar = torch.tensor(7)\n",
        "scalar"
      ],
      "metadata": {
        "colab": {
          "base_uri": "https://localhost:8080/"
        },
        "id": "Xup_rtdmoVZQ",
        "outputId": "e648fd93-a85a-4f71-bd4b-399608894f80"
      },
      "execution_count": 3,
      "outputs": [
        {
          "output_type": "execute_result",
          "data": {
            "text/plain": [
              "tensor(7)"
            ]
          },
          "metadata": {},
          "execution_count": 3
        }
      ]
    },
    {
      "cell_type": "code",
      "source": [
        "#Check the dimension\n",
        "scalar.ndim"
      ],
      "metadata": {
        "colab": {
          "base_uri": "https://localhost:8080/"
        },
        "id": "P8lYFdCzpaE4",
        "outputId": "4215d3db-e513-4c64-8f75-7a54e8264c62"
      },
      "execution_count": 4,
      "outputs": [
        {
          "output_type": "execute_result",
          "data": {
            "text/plain": [
              "0"
            ]
          },
          "metadata": {},
          "execution_count": 4
        }
      ]
    },
    {
      "cell_type": "code",
      "source": [
        "#Get tensor as Python int\n",
        "scalar.item()"
      ],
      "metadata": {
        "colab": {
          "base_uri": "https://localhost:8080/"
        },
        "id": "9FW4EszRppHj",
        "outputId": "f826a4a2-d31e-4188-fd22-cc347367cbef"
      },
      "execution_count": 5,
      "outputs": [
        {
          "output_type": "execute_result",
          "data": {
            "text/plain": [
              "7"
            ]
          },
          "metadata": {},
          "execution_count": 5
        }
      ]
    },
    {
      "cell_type": "code",
      "source": [
        "#2. Vector\n",
        "vector = torch.tensor([7,7])\n",
        "vector"
      ],
      "metadata": {
        "colab": {
          "base_uri": "https://localhost:8080/"
        },
        "id": "1LLwSjYZp43i",
        "outputId": "6a609285-5374-41d5-d9f8-7252376f7e54"
      },
      "execution_count": 6,
      "outputs": [
        {
          "output_type": "execute_result",
          "data": {
            "text/plain": [
              "tensor([7, 7])"
            ]
          },
          "metadata": {},
          "execution_count": 6
        }
      ]
    },
    {
      "cell_type": "code",
      "source": [
        "vector.shape"
      ],
      "metadata": {
        "colab": {
          "base_uri": "https://localhost:8080/"
        },
        "id": "PrmP0pLGqGAK",
        "outputId": "cb11f02c-2235-4751-94db-c74651a0f73d"
      },
      "execution_count": 7,
      "outputs": [
        {
          "output_type": "execute_result",
          "data": {
            "text/plain": [
              "torch.Size([2])"
            ]
          },
          "metadata": {},
          "execution_count": 7
        }
      ]
    },
    {
      "cell_type": "code",
      "source": [
        "#3. Matrix\n",
        "MATRIX  = torch.tensor([[7,8,4], [9,1,3]])\n",
        "MATRIX"
      ],
      "metadata": {
        "colab": {
          "base_uri": "https://localhost:8080/"
        },
        "id": "rUHe8zSZqNpI",
        "outputId": "07eecad2-bdf8-4e09-8dcf-cb76a7f39bd0"
      },
      "execution_count": 8,
      "outputs": [
        {
          "output_type": "execute_result",
          "data": {
            "text/plain": [
              "tensor([[7, 8, 4],\n",
              "        [9, 1, 3]])"
            ]
          },
          "metadata": {},
          "execution_count": 8
        }
      ]
    },
    {
      "cell_type": "code",
      "source": [
        "MATRIX.shape"
      ],
      "metadata": {
        "colab": {
          "base_uri": "https://localhost:8080/"
        },
        "id": "qNcNt1rAqf1Q",
        "outputId": "c996eaa5-2694-43dd-eda1-36538b743241"
      },
      "execution_count": 9,
      "outputs": [
        {
          "output_type": "execute_result",
          "data": {
            "text/plain": [
              "torch.Size([2, 3])"
            ]
          },
          "metadata": {},
          "execution_count": 9
        }
      ]
    },
    {
      "cell_type": "code",
      "source": [
        "MATRIX.ndim"
      ],
      "metadata": {
        "colab": {
          "base_uri": "https://localhost:8080/"
        },
        "id": "0ItZAAY3qnKH",
        "outputId": "6896eab5-725d-467c-9d79-fa419fd5bb50"
      },
      "execution_count": 10,
      "outputs": [
        {
          "output_type": "execute_result",
          "data": {
            "text/plain": [
              "2"
            ]
          },
          "metadata": {},
          "execution_count": 10
        }
      ]
    },
    {
      "cell_type": "code",
      "source": [
        "#4. Tensor\n",
        "TENSOR = torch.tensor([[[1,2,3],\n",
        "                        [4,5,6],\n",
        "                        [3,4,1]]])\n",
        "TENSOR"
      ],
      "metadata": {
        "colab": {
          "base_uri": "https://localhost:8080/"
        },
        "id": "hCZEE3YgqqXa",
        "outputId": "3e648bb3-03fd-4e8e-cec8-ee1d5e9fc297"
      },
      "execution_count": 11,
      "outputs": [
        {
          "output_type": "execute_result",
          "data": {
            "text/plain": [
              "tensor([[[1, 2, 3],\n",
              "         [4, 5, 6],\n",
              "         [3, 4, 1]]])"
            ]
          },
          "metadata": {},
          "execution_count": 11
        }
      ]
    },
    {
      "cell_type": "code",
      "source": [
        "TENSOR.ndim"
      ],
      "metadata": {
        "colab": {
          "base_uri": "https://localhost:8080/"
        },
        "id": "6W-9C4mvq4K2",
        "outputId": "d960d81f-e1c5-4869-c3b0-7e7bf4a2b3f3"
      },
      "execution_count": 12,
      "outputs": [
        {
          "output_type": "execute_result",
          "data": {
            "text/plain": [
              "3"
            ]
          },
          "metadata": {},
          "execution_count": 12
        }
      ]
    },
    {
      "cell_type": "code",
      "source": [
        "TENSOR.shape"
      ],
      "metadata": {
        "colab": {
          "base_uri": "https://localhost:8080/"
        },
        "id": "VrrQDcwlrC1B",
        "outputId": "244b82d4-06f5-47fa-f78c-8cbf7aa33ee0"
      },
      "execution_count": 13,
      "outputs": [
        {
          "output_type": "execute_result",
          "data": {
            "text/plain": [
              "torch.Size([1, 3, 3])"
            ]
          },
          "metadata": {},
          "execution_count": 13
        }
      ]
    },
    {
      "cell_type": "code",
      "source": [
        "TENSOR[0]"
      ],
      "metadata": {
        "colab": {
          "base_uri": "https://localhost:8080/"
        },
        "id": "xKGd_06SrE-j",
        "outputId": "19cb7810-be27-4e8b-c21b-77f9cc30b1b1"
      },
      "execution_count": 14,
      "outputs": [
        {
          "output_type": "execute_result",
          "data": {
            "text/plain": [
              "tensor([[1, 2, 3],\n",
              "        [4, 5, 6],\n",
              "        [3, 4, 1]])"
            ]
          },
          "metadata": {},
          "execution_count": 14
        }
      ]
    },
    {
      "cell_type": "code",
      "source": [
        "TENSOR[0,1]"
      ],
      "metadata": {
        "colab": {
          "base_uri": "https://localhost:8080/"
        },
        "id": "tcvvqFqfrJo1",
        "outputId": "6bc0e881-c59b-4fa5-ef2b-1249771a83d4"
      },
      "execution_count": 15,
      "outputs": [
        {
          "output_type": "execute_result",
          "data": {
            "text/plain": [
              "tensor([4, 5, 6])"
            ]
          },
          "metadata": {},
          "execution_count": 15
        }
      ]
    },
    {
      "cell_type": "code",
      "source": [
        "TENSOR[0,1,1]"
      ],
      "metadata": {
        "colab": {
          "base_uri": "https://localhost:8080/"
        },
        "id": "8MauSeVerLnF",
        "outputId": "e4daf0db-31e0-4658-f9b3-5e4c0433f4e1"
      },
      "execution_count": 16,
      "outputs": [
        {
          "output_type": "execute_result",
          "data": {
            "text/plain": [
              "tensor(5)"
            ]
          },
          "metadata": {},
          "execution_count": 16
        }
      ]
    },
    {
      "cell_type": "code",
      "source": [
        " #Random tensors\n",
        "random_tensor = torch.rand(3,4,1)\n",
        "random_tensor"
      ],
      "metadata": {
        "colab": {
          "base_uri": "https://localhost:8080/"
        },
        "id": "3YgcWgCLrQ39",
        "outputId": "3dd09e58-9385-44df-d926-783cadcd2a2e"
      },
      "execution_count": 17,
      "outputs": [
        {
          "output_type": "execute_result",
          "data": {
            "text/plain": [
              "tensor([[[0.5785],\n",
              "         [0.8356],\n",
              "         [0.2510],\n",
              "         [0.2240]],\n",
              "\n",
              "        [[0.3630],\n",
              "         [0.4307],\n",
              "         [0.8046],\n",
              "         [0.3454]],\n",
              "\n",
              "        [[0.0852],\n",
              "         [0.1861],\n",
              "         [0.9045],\n",
              "         [0.0243]]])"
            ]
          },
          "metadata": {},
          "execution_count": 17
        }
      ]
    },
    {
      "cell_type": "code",
      "source": [
        " #Tensor of zeros\n",
        " zeros = torch.zeros(size=(3,3))\n",
        " zeros"
      ],
      "metadata": {
        "colab": {
          "base_uri": "https://localhost:8080/"
        },
        "id": "SeoMnrVT5BGN",
        "outputId": "f632146f-a2a3-4511-d3b3-27f8b49d21d0"
      },
      "execution_count": 18,
      "outputs": [
        {
          "output_type": "execute_result",
          "data": {
            "text/plain": [
              "tensor([[0., 0., 0.],\n",
              "        [0., 0., 0.],\n",
              "        [0., 0., 0.]])"
            ]
          },
          "metadata": {},
          "execution_count": 18
        }
      ]
    },
    {
      "cell_type": "code",
      "source": [
        "#Tensor of ones\n",
        "ones = torch.ones(size= (3,3))\n",
        "ones"
      ],
      "metadata": {
        "colab": {
          "base_uri": "https://localhost:8080/"
        },
        "id": "aEvBkPx27uvL",
        "outputId": "f44ca431-8e70-47e0-e118-014031bf23d2"
      },
      "execution_count": 19,
      "outputs": [
        {
          "output_type": "execute_result",
          "data": {
            "text/plain": [
              "tensor([[1., 1., 1.],\n",
              "        [1., 1., 1.],\n",
              "        [1., 1., 1.]])"
            ]
          },
          "metadata": {},
          "execution_count": 19
        }
      ]
    },
    {
      "cell_type": "code",
      "source": [
        "ones.dtype"
      ],
      "metadata": {
        "colab": {
          "base_uri": "https://localhost:8080/"
        },
        "id": "_tKZVFYk74g1",
        "outputId": "a078e570-1706-405b-d47d-57d113fb9e3d"
      },
      "execution_count": 20,
      "outputs": [
        {
          "output_type": "execute_result",
          "data": {
            "text/plain": [
              "torch.float32"
            ]
          },
          "metadata": {},
          "execution_count": 20
        }
      ]
    },
    {
      "cell_type": "code",
      "source": [
        "#Tensors in a range\n",
        "range_tensor = torch.arange(0,20,2)\n",
        "range_tensor"
      ],
      "metadata": {
        "colab": {
          "base_uri": "https://localhost:8080/"
        },
        "id": "14UbN9iO77ko",
        "outputId": "e10a9995-b032-423e-83e7-f3b2dba45bbc"
      },
      "execution_count": 21,
      "outputs": [
        {
          "output_type": "execute_result",
          "data": {
            "text/plain": [
              "tensor([ 0,  2,  4,  6,  8, 10, 12, 14, 16, 18])"
            ]
          },
          "metadata": {},
          "execution_count": 21
        }
      ]
    },
    {
      "cell_type": "code",
      "source": [
        "#Tensor like -> same shape\n",
        "like = torch.zeros_like(input=range_tensor)\n",
        "like"
      ],
      "metadata": {
        "colab": {
          "base_uri": "https://localhost:8080/"
        },
        "id": "cUIM6J-Q8JYf",
        "outputId": "653b5d52-76b8-42f7-98e0-ede614d668b4"
      },
      "execution_count": 22,
      "outputs": [
        {
          "output_type": "execute_result",
          "data": {
            "text/plain": [
              "tensor([0, 0, 0, 0, 0, 0, 0, 0, 0, 0])"
            ]
          },
          "metadata": {},
          "execution_count": 22
        }
      ]
    },
    {
      "cell_type": "markdown",
      "source": [
        "## Tensor Datatype\n",
        "*precision in computing*\n",
        "1. float_32 -> single precision (default)\n",
        "2. float_16 -> half precision\n",
        "3. float_64 -> double precision"
      ],
      "metadata": {
        "id": "6iuAJj-4IxcU"
      }
    },
    {
      "cell_type": "code",
      "source": [
        "float_16 = torch.tensor([[3,4,2]],\n",
        "                        dtype = torch.half,\n",
        "                        device = None,  #What device your tensor is on\n",
        "                        requires_grad = False) #track or not to track gradients\n",
        "float_16"
      ],
      "metadata": {
        "colab": {
          "base_uri": "https://localhost:8080/"
        },
        "id": "pa78inre8n9k",
        "outputId": "5e782879-32aa-45a9-b713-3bfd49655833"
      },
      "execution_count": 23,
      "outputs": [
        {
          "output_type": "execute_result",
          "data": {
            "text/plain": [
              "tensor([[3., 4., 2.]], dtype=torch.float16)"
            ]
          },
          "metadata": {},
          "execution_count": 23
        }
      ]
    },
    {
      "cell_type": "code",
      "source": [
        "#Tensor attributes\n",
        "print(f\"Datatype of the tensor: {float_16.dtype}\")\n",
        "print(f\"Shape of the tensor: {float_16.shape}\")\n",
        "print(f\"Device the tensor is on: {float_16.device}\")"
      ],
      "metadata": {
        "colab": {
          "base_uri": "https://localhost:8080/"
        },
        "id": "j41L_XSrJgcC",
        "outputId": "a2f852b7-d8dd-46cc-a518-320a084858e9"
      },
      "execution_count": 24,
      "outputs": [
        {
          "output_type": "stream",
          "name": "stdout",
          "text": [
            "Datatype of the tensor: torch.float16\n",
            "Shape of the tensor: torch.Size([1, 3])\n",
            "Device the tensor is on: cpu\n"
          ]
        }
      ]
    },
    {
      "cell_type": "markdown",
      "source": [],
      "metadata": {
        "id": "2q-hfEQhL0SC"
      }
    },
    {
      "cell_type": "markdown",
      "source": [
        "## Tensor Operations"
      ],
      "metadata": {
        "id": "Ac8GTMuAL5u8"
      }
    },
    {
      "cell_type": "code",
      "source": [
        "tensor = torch.tensor([100,200,300])\n",
        "tensor"
      ],
      "metadata": {
        "colab": {
          "base_uri": "https://localhost:8080/"
        },
        "id": "PrlEixuxLH1-",
        "outputId": "dd148ba7-4cfb-44ee-d2a9-955443790dae"
      },
      "execution_count": 25,
      "outputs": [
        {
          "output_type": "execute_result",
          "data": {
            "text/plain": [
              "tensor([100, 200, 300])"
            ]
          },
          "metadata": {},
          "execution_count": 25
        }
      ]
    },
    {
      "cell_type": "code",
      "source": [
        "#Addition\n",
        "tensor + 10"
      ],
      "metadata": {
        "colab": {
          "base_uri": "https://localhost:8080/"
        },
        "id": "PmJHPZmPL4MD",
        "outputId": "547f2c1f-7e8b-495a-be9c-27668149d061"
      },
      "execution_count": 26,
      "outputs": [
        {
          "output_type": "execute_result",
          "data": {
            "text/plain": [
              "tensor([110, 210, 310])"
            ]
          },
          "metadata": {},
          "execution_count": 26
        }
      ]
    },
    {
      "cell_type": "code",
      "source": [
        "#sub\n",
        "tensor - 10"
      ],
      "metadata": {
        "colab": {
          "base_uri": "https://localhost:8080/"
        },
        "id": "WCsN-7xkL9SX",
        "outputId": "db56af26-f4d8-42bb-ad8f-057db98cf130"
      },
      "execution_count": 27,
      "outputs": [
        {
          "output_type": "execute_result",
          "data": {
            "text/plain": [
              "tensor([ 90, 190, 290])"
            ]
          },
          "metadata": {},
          "execution_count": 27
        }
      ]
    },
    {
      "cell_type": "code",
      "source": [
        "#Element-wise multiplication\n",
        "tensor * 10"
      ],
      "metadata": {
        "colab": {
          "base_uri": "https://localhost:8080/"
        },
        "id": "yNe0fCJKMO8l",
        "outputId": "dd7ff199-8ba4-4003-93d5-d235916431d6"
      },
      "execution_count": 28,
      "outputs": [
        {
          "output_type": "execute_result",
          "data": {
            "text/plain": [
              "tensor([1000, 2000, 3000])"
            ]
          },
          "metadata": {},
          "execution_count": 28
        }
      ]
    },
    {
      "cell_type": "code",
      "source": [
        "#Division\n",
        "tensor / 10"
      ],
      "metadata": {
        "colab": {
          "base_uri": "https://localhost:8080/"
        },
        "id": "stMqrK__MUEW",
        "outputId": "f8f92303-b528-4274-bf90-953e0ac2fce2"
      },
      "execution_count": 29,
      "outputs": [
        {
          "output_type": "execute_result",
          "data": {
            "text/plain": [
              "tensor([10., 20., 30.])"
            ]
          },
          "metadata": {},
          "execution_count": 29
        }
      ]
    },
    {
      "cell_type": "code",
      "source": [
        "#Matrix Mul\n",
        "tensor2 = torch.tensor([1,2,3])\n",
        "torch.matmul(tensor, tensor2)"
      ],
      "metadata": {
        "colab": {
          "base_uri": "https://localhost:8080/"
        },
        "id": "RNknWB5DMYzO",
        "outputId": "5be35209-1a9e-4987-e427-ef9ab7311b77"
      },
      "execution_count": 30,
      "outputs": [
        {
          "output_type": "execute_result",
          "data": {
            "text/plain": [
              "tensor(1400)"
            ]
          },
          "metadata": {},
          "execution_count": 30
        }
      ]
    },
    {
      "cell_type": "code",
      "source": [
        "#Transpose\n",
        "tensor3 = torch.tensor([[1,2,3],\n",
        "                        [4,5,6]])\n",
        "print(\"Before: \", tensor3.shape, tensor3)\n",
        "print(\"After: \", tensor3.T.shape, tensor3.T)"
      ],
      "metadata": {
        "colab": {
          "base_uri": "https://localhost:8080/"
        },
        "id": "L4W1GNyJMzD8",
        "outputId": "f9fad3fa-beb0-45f1-b1cb-a1b3e7eb41f0"
      },
      "execution_count": 31,
      "outputs": [
        {
          "output_type": "stream",
          "name": "stdout",
          "text": [
            "Before:  torch.Size([2, 3]) tensor([[1, 2, 3],\n",
            "        [4, 5, 6]])\n",
            "After:  torch.Size([3, 2]) tensor([[1, 4],\n",
            "        [2, 5],\n",
            "        [3, 6]])\n"
          ]
        }
      ]
    },
    {
      "cell_type": "markdown",
      "source": [
        "##Tensor Aggregation"
      ],
      "metadata": {
        "id": "cC0BR66PgoMQ"
      }
    },
    {
      "cell_type": "code",
      "source": [
        "x = torch.arange(1,11)\n",
        "x"
      ],
      "metadata": {
        "id": "mZ-UuaeiQU6n",
        "colab": {
          "base_uri": "https://localhost:8080/"
        },
        "outputId": "1808babb-009d-4604-9b6e-34c2840da3a8"
      },
      "execution_count": 32,
      "outputs": [
        {
          "output_type": "execute_result",
          "data": {
            "text/plain": [
              "tensor([ 1,  2,  3,  4,  5,  6,  7,  8,  9, 10])"
            ]
          },
          "metadata": {},
          "execution_count": 32
        }
      ]
    },
    {
      "cell_type": "code",
      "source": [
        "x.min(), torch.min(x)"
      ],
      "metadata": {
        "colab": {
          "base_uri": "https://localhost:8080/"
        },
        "id": "9YScM2wygqrS",
        "outputId": "b8ea3442-878a-40e4-bca1-bbe106cca7fe"
      },
      "execution_count": 33,
      "outputs": [
        {
          "output_type": "execute_result",
          "data": {
            "text/plain": [
              "(tensor(1), tensor(1))"
            ]
          },
          "metadata": {},
          "execution_count": 33
        }
      ]
    },
    {
      "cell_type": "code",
      "source": [
        "x.max(), torch.max(x)"
      ],
      "metadata": {
        "colab": {
          "base_uri": "https://localhost:8080/"
        },
        "id": "AIStiSxKgz3E",
        "outputId": "cba363f9-4d64-4ab9-8491-b96b1b8eda42"
      },
      "execution_count": 34,
      "outputs": [
        {
          "output_type": "execute_result",
          "data": {
            "text/plain": [
              "(tensor(10), tensor(10))"
            ]
          },
          "metadata": {},
          "execution_count": 34
        }
      ]
    },
    {
      "cell_type": "code",
      "source": [
        "x.sum(), torch.sum(x)"
      ],
      "metadata": {
        "colab": {
          "base_uri": "https://localhost:8080/"
        },
        "id": "pXDdikJFg1Vt",
        "outputId": "60076d1d-8995-4f5e-f3c0-17e09d1dfd61"
      },
      "execution_count": 35,
      "outputs": [
        {
          "output_type": "execute_result",
          "data": {
            "text/plain": [
              "(tensor(55), tensor(55))"
            ]
          },
          "metadata": {},
          "execution_count": 35
        }
      ]
    },
    {
      "cell_type": "code",
      "source": [
        "x.type(torch.half).mean(), torch.mean(x.type(torch.half))"
      ],
      "metadata": {
        "colab": {
          "base_uri": "https://localhost:8080/"
        },
        "id": "mtVQBO02g20L",
        "outputId": "40cd0848-0de3-4269-960a-f1a71d582f12"
      },
      "execution_count": 36,
      "outputs": [
        {
          "output_type": "execute_result",
          "data": {
            "text/plain": [
              "(tensor(5.5000, dtype=torch.float16), tensor(5.5000, dtype=torch.float16))"
            ]
          },
          "metadata": {},
          "execution_count": 36
        }
      ]
    },
    {
      "cell_type": "code",
      "source": [
        "#Find the index of the lowest tensor\n",
        "x.argmin(), torch.argmin(x)"
      ],
      "metadata": {
        "colab": {
          "base_uri": "https://localhost:8080/"
        },
        "id": "A1g5nvDfg7Lq",
        "outputId": "05db1a95-ee79-4ac4-975c-f878efb1b426"
      },
      "execution_count": 37,
      "outputs": [
        {
          "output_type": "execute_result",
          "data": {
            "text/plain": [
              "(tensor(0), tensor(0))"
            ]
          },
          "metadata": {},
          "execution_count": 37
        }
      ]
    },
    {
      "cell_type": "code",
      "source": [
        "#Find the index of the highest tensor\n",
        "x.argmax(), torch.argmax(x)"
      ],
      "metadata": {
        "colab": {
          "base_uri": "https://localhost:8080/"
        },
        "id": "bEfQD9W1hqrG",
        "outputId": "fa6d06a4-1864-4555-d576-2638d9c8d233"
      },
      "execution_count": 38,
      "outputs": [
        {
          "output_type": "execute_result",
          "data": {
            "text/plain": [
              "(tensor(9), tensor(9))"
            ]
          },
          "metadata": {},
          "execution_count": 38
        }
      ]
    },
    {
      "cell_type": "markdown",
      "source": [
        "## Tensor Manipulation\n",
        "\n",
        "1. Reshape - reshape to a given shape\n",
        "2. View - reshape but does not change the original value in memory\n",
        "3. Stacking - combine multiple tensors on top of each other\n",
        "4. Squeeze - remove one dimension\n",
        "5. Unsqueeze - add a dimension\n",
        "6. Permute - return view of the inpu with dimensions swapped(permuted) in a certain way"
      ],
      "metadata": {
        "id": "EUXeOJpSiN7K"
      }
    },
    {
      "cell_type": "code",
      "source": [
        "#Reshape\n",
        "x_reshaped = x.reshape(2,5)\n",
        "x.shape, x_reshaped.shape"
      ],
      "metadata": {
        "colab": {
          "base_uri": "https://localhost:8080/"
        },
        "id": "oorVsRAeh7O7",
        "outputId": "770e1cb4-0ddc-4982-a962-fe8de753930c"
      },
      "execution_count": 39,
      "outputs": [
        {
          "output_type": "execute_result",
          "data": {
            "text/plain": [
              "(torch.Size([10]), torch.Size([2, 5]))"
            ]
          },
          "metadata": {},
          "execution_count": 39
        }
      ]
    },
    {
      "cell_type": "code",
      "source": [
        "x, x_reshaped"
      ],
      "metadata": {
        "colab": {
          "base_uri": "https://localhost:8080/"
        },
        "id": "0BQOVDPDiAes",
        "outputId": "6a066477-9412-4958-e72f-c083abbba9ad"
      },
      "execution_count": 40,
      "outputs": [
        {
          "output_type": "execute_result",
          "data": {
            "text/plain": [
              "(tensor([ 1,  2,  3,  4,  5,  6,  7,  8,  9, 10]),\n",
              " tensor([[ 1,  2,  3,  4,  5],\n",
              "         [ 6,  7,  8,  9, 10]]))"
            ]
          },
          "metadata": {},
          "execution_count": 40
        }
      ]
    },
    {
      "cell_type": "code",
      "source": [
        "#View\n",
        "z = x.view(1,10)\n",
        "z, x"
      ],
      "metadata": {
        "colab": {
          "base_uri": "https://localhost:8080/"
        },
        "id": "v7YI3sBUiROp",
        "outputId": "7dc00e1a-5c41-42f8-980f-65c15c565485"
      },
      "execution_count": 41,
      "outputs": [
        {
          "output_type": "execute_result",
          "data": {
            "text/plain": [
              "(tensor([[ 1,  2,  3,  4,  5,  6,  7,  8,  9, 10]]),\n",
              " tensor([ 1,  2,  3,  4,  5,  6,  7,  8,  9, 10]))"
            ]
          },
          "metadata": {},
          "execution_count": 41
        }
      ]
    },
    {
      "cell_type": "code",
      "source": [
        "#changing shape of view changes x\n",
        "z[:, :5] = 5\n",
        "z, x"
      ],
      "metadata": {
        "colab": {
          "base_uri": "https://localhost:8080/"
        },
        "id": "JRvlCEGnjuk7",
        "outputId": "6e8bc99a-0dbf-4d3b-9935-fd602230f095"
      },
      "execution_count": 42,
      "outputs": [
        {
          "output_type": "execute_result",
          "data": {
            "text/plain": [
              "(tensor([[ 5,  5,  5,  5,  5,  6,  7,  8,  9, 10]]),\n",
              " tensor([ 5,  5,  5,  5,  5,  6,  7,  8,  9, 10]))"
            ]
          },
          "metadata": {},
          "execution_count": 42
        }
      ]
    },
    {
      "cell_type": "code",
      "source": [
        "#stack\n",
        "x_stack = torch.stack([x,x,x], dim=0)\n",
        "x_stack"
      ],
      "metadata": {
        "colab": {
          "base_uri": "https://localhost:8080/"
        },
        "id": "WABU9Yr2j9XG",
        "outputId": "043ef4fc-466c-4551-e642-cf99a89f5af8"
      },
      "execution_count": 43,
      "outputs": [
        {
          "output_type": "execute_result",
          "data": {
            "text/plain": [
              "tensor([[ 5,  5,  5,  5,  5,  6,  7,  8,  9, 10],\n",
              "        [ 5,  5,  5,  5,  5,  6,  7,  8,  9, 10],\n",
              "        [ 5,  5,  5,  5,  5,  6,  7,  8,  9, 10]])"
            ]
          },
          "metadata": {},
          "execution_count": 43
        }
      ]
    },
    {
      "cell_type": "code",
      "source": [
        "#Squeeze\n",
        "x_sqeeze = torch.squeeze(x)\n",
        "x_sqeeze.shape"
      ],
      "metadata": {
        "colab": {
          "base_uri": "https://localhost:8080/"
        },
        "id": "cVxl8UKjkPpQ",
        "outputId": "36ba988d-947e-44f8-f019-4d4773605728"
      },
      "execution_count": 44,
      "outputs": [
        {
          "output_type": "execute_result",
          "data": {
            "text/plain": [
              "torch.Size([10])"
            ]
          },
          "metadata": {},
          "execution_count": 44
        }
      ]
    },
    {
      "cell_type": "code",
      "source": [
        "#Squeeze\n",
        "x_sqeeze = torch.unsqueeze(x, dim=1)\n",
        "x_sqeeze.shape, x_sqeeze"
      ],
      "metadata": {
        "colab": {
          "base_uri": "https://localhost:8080/"
        },
        "id": "FARMEfATkoYB",
        "outputId": "05514f63-9f44-4851-ec79-b9578ec7e2d7"
      },
      "execution_count": 45,
      "outputs": [
        {
          "output_type": "execute_result",
          "data": {
            "text/plain": [
              "(torch.Size([10, 1]),\n",
              " tensor([[ 5],\n",
              "         [ 5],\n",
              "         [ 5],\n",
              "         [ 5],\n",
              "         [ 5],\n",
              "         [ 6],\n",
              "         [ 7],\n",
              "         [ 8],\n",
              "         [ 9],\n",
              "         [10]]))"
            ]
          },
          "metadata": {},
          "execution_count": 45
        }
      ]
    },
    {
      "cell_type": "code",
      "source": [
        "#Permute\n",
        "img = torch.rand(size=(224,200,3))\n",
        "x_permute = img.permute(2,0,1)"
      ],
      "metadata": {
        "id": "EyTUNBsBkw_H"
      },
      "execution_count": 46,
      "outputs": []
    },
    {
      "cell_type": "code",
      "source": [
        "img.shape, x_permute.shape"
      ],
      "metadata": {
        "colab": {
          "base_uri": "https://localhost:8080/"
        },
        "id": "BuGt683elivZ",
        "outputId": "66444246-270b-43ec-aeda-c9618a19fcc0"
      },
      "execution_count": 47,
      "outputs": [
        {
          "output_type": "execute_result",
          "data": {
            "text/plain": [
              "(torch.Size([224, 200, 3]), torch.Size([3, 224, 200]))"
            ]
          },
          "metadata": {},
          "execution_count": 47
        }
      ]
    },
    {
      "cell_type": "markdown",
      "source": [
        "## Indexing"
      ],
      "metadata": {
        "id": "wojKy47OvjQ0"
      }
    },
    {
      "cell_type": "code",
      "source": [
        "rand = torch.arange(1,10).reshape(1,3,3)\n",
        "rand"
      ],
      "metadata": {
        "colab": {
          "base_uri": "https://localhost:8080/"
        },
        "id": "5-gYO4aHlntR",
        "outputId": "4e8b4a57-dbc9-428d-a997-0d4354e0205b"
      },
      "execution_count": 48,
      "outputs": [
        {
          "output_type": "execute_result",
          "data": {
            "text/plain": [
              "tensor([[[1, 2, 3],\n",
              "         [4, 5, 6],\n",
              "         [7, 8, 9]]])"
            ]
          },
          "metadata": {},
          "execution_count": 48
        }
      ]
    },
    {
      "cell_type": "code",
      "source": [
        "rand[0]"
      ],
      "metadata": {
        "colab": {
          "base_uri": "https://localhost:8080/"
        },
        "id": "-2OMkGr5vqgb",
        "outputId": "c8d84f9a-2156-4b5c-a31d-c7d4a0258394"
      },
      "execution_count": 49,
      "outputs": [
        {
          "output_type": "execute_result",
          "data": {
            "text/plain": [
              "tensor([[1, 2, 3],\n",
              "        [4, 5, 6],\n",
              "        [7, 8, 9]])"
            ]
          },
          "metadata": {},
          "execution_count": 49
        }
      ]
    },
    {
      "cell_type": "code",
      "source": [
        "rand[0,0] , rand[0][0]"
      ],
      "metadata": {
        "colab": {
          "base_uri": "https://localhost:8080/"
        },
        "id": "qSFDoEaWv2YH",
        "outputId": "639a11eb-9555-4bb0-abac-e6db73c48717"
      },
      "execution_count": 50,
      "outputs": [
        {
          "output_type": "execute_result",
          "data": {
            "text/plain": [
              "(tensor([1, 2, 3]), tensor([1, 2, 3]))"
            ]
          },
          "metadata": {},
          "execution_count": 50
        }
      ]
    },
    {
      "cell_type": "code",
      "source": [
        "rand[0,1,1], rand[0][1][1]"
      ],
      "metadata": {
        "colab": {
          "base_uri": "https://localhost:8080/"
        },
        "id": "R7XzVGA4v5VF",
        "outputId": "a9eb7ed9-be74-46eb-fea3-15bac939ac01"
      },
      "execution_count": 51,
      "outputs": [
        {
          "output_type": "execute_result",
          "data": {
            "text/plain": [
              "(tensor(5), tensor(5))"
            ]
          },
          "metadata": {},
          "execution_count": 51
        }
      ]
    },
    {
      "cell_type": "code",
      "source": [
        "rand[:, :, 1]"
      ],
      "metadata": {
        "colab": {
          "base_uri": "https://localhost:8080/"
        },
        "id": "faZbQDJnv-BV",
        "outputId": "bfa2866f-fed3-4aa5-bea2-a000f4f89f23"
      },
      "execution_count": 52,
      "outputs": [
        {
          "output_type": "execute_result",
          "data": {
            "text/plain": [
              "tensor([[2, 5, 8]])"
            ]
          },
          "metadata": {},
          "execution_count": 52
        }
      ]
    },
    {
      "cell_type": "code",
      "source": [],
      "metadata": {
        "id": "_xF9Baj1wYC5"
      },
      "execution_count": 52,
      "outputs": []
    },
    {
      "cell_type": "markdown",
      "source": [
        "## Numpy to Tensor\n",
        "\n",
        "Tensor's default type is float32 but when it converts numpy to tensor, the type is float64"
      ],
      "metadata": {
        "id": "RKxJSBQdgYu8"
      }
    },
    {
      "cell_type": "code",
      "source": [
        "#Convert np array to tensor\n",
        "np_array = np.random.rand(3, 4)\n",
        "np_tensor = torch.from_numpy(np_array).type(torch.float32)\n",
        "np_array, np_tensor"
      ],
      "metadata": {
        "colab": {
          "base_uri": "https://localhost:8080/"
        },
        "id": "Mue6l4JmgmGX",
        "outputId": "b283a978-1528-44b6-95fc-a18b97559b2b"
      },
      "execution_count": 58,
      "outputs": [
        {
          "output_type": "execute_result",
          "data": {
            "text/plain": [
              "(array([[0.17035369, 0.42020606, 0.17652086, 0.38591744],\n",
              "        [0.19608496, 0.83403201, 0.31351107, 0.26823847],\n",
              "        [0.91642065, 0.58563758, 0.50474519, 0.31972589]]),\n",
              " tensor([[0.1704, 0.4202, 0.1765, 0.3859],\n",
              "         [0.1961, 0.8340, 0.3135, 0.2682],\n",
              "         [0.9164, 0.5856, 0.5047, 0.3197]]))"
            ]
          },
          "metadata": {},
          "execution_count": 58
        }
      ]
    },
    {
      "cell_type": "code",
      "source": [
        "np_array1 = np_tensor.numpy()\n",
        "np_array1"
      ],
      "metadata": {
        "colab": {
          "base_uri": "https://localhost:8080/"
        },
        "id": "mXixFFxlgrcr",
        "outputId": "17f0b2d4-0268-47a6-fe85-6a5c6692751f"
      },
      "execution_count": 60,
      "outputs": [
        {
          "output_type": "execute_result",
          "data": {
            "text/plain": [
              "array([[0.1703537 , 0.42020607, 0.17652085, 0.38591743],\n",
              "       [0.19608496, 0.834032  , 0.31351107, 0.26823848],\n",
              "       [0.91642064, 0.58563757, 0.5047452 , 0.3197259 ]], dtype=float32)"
            ]
          },
          "metadata": {},
          "execution_count": 60
        }
      ]
    },
    {
      "cell_type": "code",
      "source": [],
      "metadata": {
        "id": "seuK2txfiPDq"
      },
      "execution_count": null,
      "outputs": []
    },
    {
      "cell_type": "markdown",
      "source": [
        "## Reproducbility\n",
        "\n",
        "Reduce the randomness in neural networks and PyTorch -> random.seed"
      ],
      "metadata": {
        "id": "7IJKeu01jAKw"
      }
    },
    {
      "cell_type": "code",
      "source": [
        "torch.manual_seed(42)\n",
        "rand_tensor = torch.rand(3,4)\n",
        "rand_tensor"
      ],
      "metadata": {
        "colab": {
          "base_uri": "https://localhost:8080/"
        },
        "id": "9MWkAEEFjNgW",
        "outputId": "874a2469-c3eb-49ae-e2a0-8e414688fea3"
      },
      "execution_count": 65,
      "outputs": [
        {
          "output_type": "execute_result",
          "data": {
            "text/plain": [
              "tensor([[0.8823, 0.9150, 0.3829, 0.9593],\n",
              "        [0.3904, 0.6009, 0.2566, 0.7936],\n",
              "        [0.9408, 0.1332, 0.9346, 0.5936]])"
            ]
          },
          "metadata": {},
          "execution_count": 65
        }
      ]
    },
    {
      "cell_type": "code",
      "source": [
        "torch.rand(3,4)"
      ],
      "metadata": {
        "colab": {
          "base_uri": "https://localhost:8080/"
        },
        "id": "LoXwvO6ujsnw",
        "outputId": "5c042fee-aabb-4040-cbda-61ebaa57a634"
      },
      "execution_count": 66,
      "outputs": [
        {
          "output_type": "execute_result",
          "data": {
            "text/plain": [
              "tensor([[0.8694, 0.5677, 0.7411, 0.4294],\n",
              "        [0.8854, 0.5739, 0.2666, 0.6274],\n",
              "        [0.2696, 0.4414, 0.2969, 0.8317]])"
            ]
          },
          "metadata": {},
          "execution_count": 66
        }
      ]
    },
    {
      "cell_type": "code",
      "source": [
        "torch.manual_seed(42)\n",
        "torch.rand(3,4)"
      ],
      "metadata": {
        "colab": {
          "base_uri": "https://localhost:8080/"
        },
        "id": "pR5bVxHmj6yD",
        "outputId": "aa0bf3ef-f688-4bb8-a470-6cafef33452e"
      },
      "execution_count": 67,
      "outputs": [
        {
          "output_type": "execute_result",
          "data": {
            "text/plain": [
              "tensor([[0.8823, 0.9150, 0.3829, 0.9593],\n",
              "        [0.3904, 0.6009, 0.2566, 0.7936],\n",
              "        [0.9408, 0.1332, 0.9346, 0.5936]])"
            ]
          },
          "metadata": {},
          "execution_count": 67
        }
      ]
    },
    {
      "cell_type": "code",
      "source": [],
      "metadata": {
        "id": "8SK18zlekP1a"
      },
      "execution_count": null,
      "outputs": []
    }
  ]
}